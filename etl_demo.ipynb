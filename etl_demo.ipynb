{
 "cells": [
  {
   "cell_type": "markdown",
   "metadata": {},
   "source": [
    "# Instalamos Dependencias requeridas para esta DEMO\n",
    "## Documentacion\n",
    "## https://docs.pola.rs/user-guide/installation/#all "
   ]
  },
  {
   "cell_type": "code",
   "execution_count": null,
   "metadata": {},
   "outputs": [],
   "source": [
    "!pip install polars[all] holidays SQLAlchemy python-dotenv connectorx fastapi[all]"
   ]
  },
  {
   "cell_type": "markdown",
   "metadata": {},
   "source": [
    "# Importamos Polars como la libreria de manipulacion de datos y ETL (Usamos esta libreria por que su interfaz se parece a PySpark) "
   ]
  },
  {
   "cell_type": "code",
   "execution_count": 1,
   "metadata": {},
   "outputs": [],
   "source": [
    "import polars as pl\n",
    "import holidays\n",
    "import datetime as dt"
   ]
  },
  {
   "cell_type": "markdown",
   "metadata": {},
   "source": [
    "# Cargamos datos crudos desde un storage arbitrario ( Puede ser CSV , una base de datos sql , un archivo parquet , etc)"
   ]
  },
  {
   "cell_type": "code",
   "execution_count": 2,
   "metadata": {},
   "outputs": [],
   "source": [
    "df = pl.read_csv(source=\"./storage_sources/customer_segmentation_data.csv\")"
   ]
  },
  {
   "cell_type": "markdown",
   "metadata": {},
   "source": [
    "## Siempre es bueno revisar que hay en el dataframe ( Nro Columnas ,tipos de datos , Nombres de columna ,etc )"
   ]
  },
  {
   "cell_type": "code",
   "execution_count": 3,
   "metadata": {},
   "outputs": [
    {
     "data": {
      "text/html": [
       "<div><style>\n",
       ".dataframe > thead > tr,\n",
       ".dataframe > tbody > tr {\n",
       "  text-align: right;\n",
       "  white-space: pre-wrap;\n",
       "}\n",
       "</style>\n",
       "<small>shape: (53_504, 20)</small><table border=\"1\" class=\"dataframe\"><thead><tr><th>Customer ID</th><th>Age</th><th>Gender</th><th>Marital Status</th><th>Education Level</th><th>Geographic Information</th><th>Occupation</th><th>Income Level</th><th>Behavioral Data</th><th>Purchase History</th><th>Interactions with Customer Service</th><th>Insurance Products Owned</th><th>Coverage Amount</th><th>Premium Amount</th><th>Policy Type</th><th>Customer Preferences</th><th>Preferred Communication Channel</th><th>Preferred Contact Time</th><th>Preferred Language</th><th>Segmentation Group</th></tr><tr><td>i64</td><td>i64</td><td>str</td><td>str</td><td>str</td><td>str</td><td>str</td><td>i64</td><td>str</td><td>str</td><td>str</td><td>str</td><td>i64</td><td>i64</td><td>str</td><td>str</td><td>str</td><td>str</td><td>str</td><td>str</td></tr></thead><tbody><tr><td>84966</td><td>23</td><td>&quot;Female&quot;</td><td>&quot;Married&quot;</td><td>&quot;Associate Degr…</td><td>&quot;Mizoram&quot;</td><td>&quot;Entrepreneur&quot;</td><td>70541</td><td>&quot;policy5&quot;</td><td>&quot;04-10-2018&quot;</td><td>&quot;Phone&quot;</td><td>&quot;policy2&quot;</td><td>366603</td><td>2749</td><td>&quot;Group&quot;</td><td>&quot;Email&quot;</td><td>&quot;In-Person Meet…</td><td>&quot;Afternoon&quot;</td><td>&quot;English&quot;</td><td>&quot;Segment5&quot;</td></tr><tr><td>95568</td><td>26</td><td>&quot;Male&quot;</td><td>&quot;Widowed&quot;</td><td>&quot;Doctorate&quot;</td><td>&quot;Goa&quot;</td><td>&quot;Manager&quot;</td><td>54168</td><td>&quot;policy5&quot;</td><td>&quot;11-06-2018&quot;</td><td>&quot;Chat&quot;</td><td>&quot;policy1&quot;</td><td>780236</td><td>1966</td><td>&quot;Group&quot;</td><td>&quot;Mail&quot;</td><td>&quot;In-Person Meet…</td><td>&quot;Morning&quot;</td><td>&quot;French&quot;</td><td>&quot;Segment5&quot;</td></tr><tr><td>10544</td><td>29</td><td>&quot;Female&quot;</td><td>&quot;Single&quot;</td><td>&quot;Associate Degr…</td><td>&quot;Rajasthan&quot;</td><td>&quot;Entrepreneur&quot;</td><td>73899</td><td>&quot;policy5&quot;</td><td>&quot;06-05-2021&quot;</td><td>&quot;Email&quot;</td><td>&quot;policy3&quot;</td><td>773926</td><td>4413</td><td>&quot;Group&quot;</td><td>&quot;Email&quot;</td><td>&quot;Mail&quot;</td><td>&quot;Evening&quot;</td><td>&quot;German&quot;</td><td>&quot;Segment3&quot;</td></tr><tr><td>77033</td><td>20</td><td>&quot;Male&quot;</td><td>&quot;Divorced&quot;</td><td>&quot;Bachelor&#x27;s Deg…</td><td>&quot;Sikkim&quot;</td><td>&quot;Entrepreneur&quot;</td><td>63381</td><td>&quot;policy5&quot;</td><td>&quot;09-02-2018&quot;</td><td>&quot;Chat&quot;</td><td>&quot;policy2&quot;</td><td>787815</td><td>4342</td><td>&quot;Family&quot;</td><td>&quot;Text&quot;</td><td>&quot;In-Person Meet…</td><td>&quot;Anytime&quot;</td><td>&quot;French&quot;</td><td>&quot;Segment3&quot;</td></tr><tr><td>88160</td><td>25</td><td>&quot;Female&quot;</td><td>&quot;Separated&quot;</td><td>&quot;Bachelor&#x27;s Deg…</td><td>&quot;West Bengal&quot;</td><td>&quot;Manager&quot;</td><td>38794</td><td>&quot;policy1&quot;</td><td>&quot;09-10-2018&quot;</td><td>&quot;Chat&quot;</td><td>&quot;policy4&quot;</td><td>366506</td><td>1276</td><td>&quot;Family&quot;</td><td>&quot;Email&quot;</td><td>&quot;Text&quot;</td><td>&quot;Weekends&quot;</td><td>&quot;English&quot;</td><td>&quot;Segment2&quot;</td></tr><tr><td>&hellip;</td><td>&hellip;</td><td>&hellip;</td><td>&hellip;</td><td>&hellip;</td><td>&hellip;</td><td>&hellip;</td><td>&hellip;</td><td>&hellip;</td><td>&hellip;</td><td>&hellip;</td><td>&hellip;</td><td>&hellip;</td><td>&hellip;</td><td>&hellip;</td><td>&hellip;</td><td>&hellip;</td><td>&hellip;</td><td>&hellip;</td><td>&hellip;</td></tr><tr><td>44809</td><td>35</td><td>&quot;Female&quot;</td><td>&quot;Divorced&quot;</td><td>&quot;Associate Degr…</td><td>&quot;Andaman and Ni…</td><td>&quot;Salesperson&quot;</td><td>120850</td><td>&quot;policy3&quot;</td><td>&quot;01-01-2019&quot;</td><td>&quot;Mobile App&quot;</td><td>&quot;policy1&quot;</td><td>586401</td><td>4404</td><td>&quot;Family&quot;</td><td>&quot;In-Person Meet…</td><td>&quot;Phone&quot;</td><td>&quot;Afternoon&quot;</td><td>&quot;German&quot;</td><td>&quot;Segment5&quot;</td></tr><tr><td>65485</td><td>61</td><td>&quot;Male&quot;</td><td>&quot;Single&quot;</td><td>&quot;Doctorate&quot;</td><td>&quot;Himachal Prade…</td><td>&quot;Entrepreneur&quot;</td><td>122309</td><td>&quot;policy5&quot;</td><td>&quot;5/18/2021&quot;</td><td>&quot;Mobile App&quot;</td><td>&quot;policy4&quot;</td><td>637733</td><td>1285</td><td>&quot;Group&quot;</td><td>&quot;Text&quot;</td><td>&quot;Mail&quot;</td><td>&quot;Afternoon&quot;</td><td>&quot;German&quot;</td><td>&quot;Segment1&quot;</td></tr><tr><td>26213</td><td>25</td><td>&quot;Male&quot;</td><td>&quot;Divorced&quot;</td><td>&quot;Doctorate&quot;</td><td>&quot;Assam&quot;</td><td>&quot;Teacher&quot;</td><td>49258</td><td>&quot;policy2&quot;</td><td>&quot;11/27/2018&quot;</td><td>&quot;In-Person&quot;</td><td>&quot;policy1&quot;</td><td>631057</td><td>4407</td><td>&quot;Individual&quot;</td><td>&quot;Text&quot;</td><td>&quot;Text&quot;</td><td>&quot;Weekends&quot;</td><td>&quot;French&quot;</td><td>&quot;Segment4&quot;</td></tr><tr><td>63136</td><td>42</td><td>&quot;Male&quot;</td><td>&quot;Married&quot;</td><td>&quot;Doctorate&quot;</td><td>&quot;Andhra Pradesh…</td><td>&quot;Artist&quot;</td><td>66301</td><td>&quot;policy4&quot;</td><td>&quot;06-04-2021&quot;</td><td>&quot;In-Person&quot;</td><td>&quot;policy1&quot;</td><td>730385</td><td>4482</td><td>&quot;Business&quot;</td><td>&quot;Mail&quot;</td><td>&quot;Phone&quot;</td><td>&quot;Morning&quot;</td><td>&quot;French&quot;</td><td>&quot;Segment5&quot;</td></tr><tr><td>62125</td><td>20</td><td>&quot;Male&quot;</td><td>&quot;Divorced&quot;</td><td>&quot;Doctorate&quot;</td><td>&quot;Daman and Diu&quot;</td><td>&quot;Salesperson&quot;</td><td>136632</td><td>&quot;policy2&quot;</td><td>&quot;10/14/2022&quot;</td><td>&quot;Phone&quot;</td><td>&quot;policy1&quot;</td><td>743262</td><td>4499</td><td>&quot;Group&quot;</td><td>&quot;Text&quot;</td><td>&quot;In-Person Meet…</td><td>&quot;Evening&quot;</td><td>&quot;German&quot;</td><td>&quot;Segment2&quot;</td></tr></tbody></table></div>"
      ],
      "text/plain": [
       "shape: (53_504, 20)\n",
       "┌─────────────┬─────┬────────┬─────────────┬───┬────────────┬────────────┬────────────┬────────────┐\n",
       "│ Customer ID ┆ Age ┆ Gender ┆ Marital     ┆ … ┆ Preferred  ┆ Preferred  ┆ Preferred  ┆ Segmentati │\n",
       "│ ---         ┆ --- ┆ ---    ┆ Status      ┆   ┆ Communicat ┆ Contact    ┆ Language   ┆ on Group   │\n",
       "│ i64         ┆ i64 ┆ str    ┆ ---         ┆   ┆ ion        ┆ Time       ┆ ---        ┆ ---        │\n",
       "│             ┆     ┆        ┆ str         ┆   ┆ Channel    ┆ ---        ┆ str        ┆ str        │\n",
       "│             ┆     ┆        ┆             ┆   ┆ ---        ┆ str        ┆            ┆            │\n",
       "│             ┆     ┆        ┆             ┆   ┆ str        ┆            ┆            ┆            │\n",
       "╞═════════════╪═════╪════════╪═════════════╪═══╪════════════╪════════════╪════════════╪════════════╡\n",
       "│ 84966       ┆ 23  ┆ Female ┆ Married     ┆ … ┆ In-Person  ┆ Afternoon  ┆ English    ┆ Segment5   │\n",
       "│             ┆     ┆        ┆             ┆   ┆ Meeting    ┆            ┆            ┆            │\n",
       "│ 95568       ┆ 26  ┆ Male   ┆ Widowed     ┆ … ┆ In-Person  ┆ Morning    ┆ French     ┆ Segment5   │\n",
       "│             ┆     ┆        ┆             ┆   ┆ Meeting    ┆            ┆            ┆            │\n",
       "│ 10544       ┆ 29  ┆ Female ┆ Single      ┆ … ┆ Mail       ┆ Evening    ┆ German     ┆ Segment3   │\n",
       "│ 77033       ┆ 20  ┆ Male   ┆ Divorced    ┆ … ┆ In-Person  ┆ Anytime    ┆ French     ┆ Segment3   │\n",
       "│             ┆     ┆        ┆             ┆   ┆ Meeting    ┆            ┆            ┆            │\n",
       "│ 88160       ┆ 25  ┆ Female ┆ Separated   ┆ … ┆ Text       ┆ Weekends   ┆ English    ┆ Segment2   │\n",
       "│ …           ┆ …   ┆ …      ┆ …           ┆ … ┆ …          ┆ …          ┆ …          ┆ …          │\n",
       "│ 44809       ┆ 35  ┆ Female ┆ Divorced    ┆ … ┆ Phone      ┆ Afternoon  ┆ German     ┆ Segment5   │\n",
       "│ 65485       ┆ 61  ┆ Male   ┆ Single      ┆ … ┆ Mail       ┆ Afternoon  ┆ German     ┆ Segment1   │\n",
       "│ 26213       ┆ 25  ┆ Male   ┆ Divorced    ┆ … ┆ Text       ┆ Weekends   ┆ French     ┆ Segment4   │\n",
       "│ 63136       ┆ 42  ┆ Male   ┆ Married     ┆ … ┆ Phone      ┆ Morning    ┆ French     ┆ Segment5   │\n",
       "│ 62125       ┆ 20  ┆ Male   ┆ Divorced    ┆ … ┆ In-Person  ┆ Evening    ┆ German     ┆ Segment2   │\n",
       "│             ┆     ┆        ┆             ┆   ┆ Meeting    ┆            ┆            ┆            │\n",
       "└─────────────┴─────┴────────┴─────────────┴───┴────────────┴────────────┴────────────┴────────────┘"
      ]
     },
     "execution_count": 3,
     "metadata": {},
     "output_type": "execute_result"
    }
   ],
   "source": [
    "df"
   ]
  },
  {
   "cell_type": "markdown",
   "metadata": {},
   "source": [
    "## Si encontramos fechas que estan en formato str siempre es buena idea convertirlos a tipo de dato date"
   ]
  },
  {
   "cell_type": "code",
   "execution_count": 4,
   "metadata": {},
   "outputs": [
    {
     "name": "stdout",
     "output_type": "stream",
     "text": [
      "converted\n"
     ]
    }
   ],
   "source": [
    "if df.schema[\"Purchase History\"] != pl.Date:\n",
    "    print(\"converted\")\n",
    "    df = df.with_columns(\n",
    "        pl.col(\"Purchase History\")\n",
    "        .str.replace_all(\n",
    "            \"/\",\n",
    "            \"-\",\n",
    "        )\n",
    "        .str.to_date(\"%m-%d-%Y\")\n",
    "    )"
   ]
  },
  {
   "cell_type": "code",
   "execution_count": 5,
   "metadata": {},
   "outputs": [
    {
     "data": {
      "text/plain": [
       "Date"
      ]
     },
     "execution_count": 5,
     "metadata": {},
     "output_type": "execute_result"
    }
   ],
   "source": [
    "df[\"Purchase History\"].dtype"
   ]
  },
  {
   "cell_type": "code",
   "execution_count": 6,
   "metadata": {},
   "outputs": [
    {
     "data": {
      "text/html": [
       "<div><style>\n",
       ".dataframe > thead > tr,\n",
       ".dataframe > tbody > tr {\n",
       "  text-align: right;\n",
       "  white-space: pre-wrap;\n",
       "}\n",
       "</style>\n",
       "<small>shape: (53_504, 20)</small><table border=\"1\" class=\"dataframe\"><thead><tr><th>Customer ID</th><th>Age</th><th>Gender</th><th>Marital Status</th><th>Education Level</th><th>Geographic Information</th><th>Occupation</th><th>Income Level</th><th>Behavioral Data</th><th>Purchase History</th><th>Interactions with Customer Service</th><th>Insurance Products Owned</th><th>Coverage Amount</th><th>Premium Amount</th><th>Policy Type</th><th>Customer Preferences</th><th>Preferred Communication Channel</th><th>Preferred Contact Time</th><th>Preferred Language</th><th>Segmentation Group</th></tr><tr><td>i64</td><td>i64</td><td>str</td><td>str</td><td>str</td><td>str</td><td>str</td><td>i64</td><td>str</td><td>date</td><td>str</td><td>str</td><td>i64</td><td>i64</td><td>str</td><td>str</td><td>str</td><td>str</td><td>str</td><td>str</td></tr></thead><tbody><tr><td>84966</td><td>23</td><td>&quot;Female&quot;</td><td>&quot;Married&quot;</td><td>&quot;Associate Degr…</td><td>&quot;Mizoram&quot;</td><td>&quot;Entrepreneur&quot;</td><td>70541</td><td>&quot;policy5&quot;</td><td>2018-04-10</td><td>&quot;Phone&quot;</td><td>&quot;policy2&quot;</td><td>366603</td><td>2749</td><td>&quot;Group&quot;</td><td>&quot;Email&quot;</td><td>&quot;In-Person Meet…</td><td>&quot;Afternoon&quot;</td><td>&quot;English&quot;</td><td>&quot;Segment5&quot;</td></tr><tr><td>95568</td><td>26</td><td>&quot;Male&quot;</td><td>&quot;Widowed&quot;</td><td>&quot;Doctorate&quot;</td><td>&quot;Goa&quot;</td><td>&quot;Manager&quot;</td><td>54168</td><td>&quot;policy5&quot;</td><td>2018-11-06</td><td>&quot;Chat&quot;</td><td>&quot;policy1&quot;</td><td>780236</td><td>1966</td><td>&quot;Group&quot;</td><td>&quot;Mail&quot;</td><td>&quot;In-Person Meet…</td><td>&quot;Morning&quot;</td><td>&quot;French&quot;</td><td>&quot;Segment5&quot;</td></tr><tr><td>10544</td><td>29</td><td>&quot;Female&quot;</td><td>&quot;Single&quot;</td><td>&quot;Associate Degr…</td><td>&quot;Rajasthan&quot;</td><td>&quot;Entrepreneur&quot;</td><td>73899</td><td>&quot;policy5&quot;</td><td>2021-06-05</td><td>&quot;Email&quot;</td><td>&quot;policy3&quot;</td><td>773926</td><td>4413</td><td>&quot;Group&quot;</td><td>&quot;Email&quot;</td><td>&quot;Mail&quot;</td><td>&quot;Evening&quot;</td><td>&quot;German&quot;</td><td>&quot;Segment3&quot;</td></tr><tr><td>77033</td><td>20</td><td>&quot;Male&quot;</td><td>&quot;Divorced&quot;</td><td>&quot;Bachelor&#x27;s Deg…</td><td>&quot;Sikkim&quot;</td><td>&quot;Entrepreneur&quot;</td><td>63381</td><td>&quot;policy5&quot;</td><td>2018-09-02</td><td>&quot;Chat&quot;</td><td>&quot;policy2&quot;</td><td>787815</td><td>4342</td><td>&quot;Family&quot;</td><td>&quot;Text&quot;</td><td>&quot;In-Person Meet…</td><td>&quot;Anytime&quot;</td><td>&quot;French&quot;</td><td>&quot;Segment3&quot;</td></tr><tr><td>88160</td><td>25</td><td>&quot;Female&quot;</td><td>&quot;Separated&quot;</td><td>&quot;Bachelor&#x27;s Deg…</td><td>&quot;West Bengal&quot;</td><td>&quot;Manager&quot;</td><td>38794</td><td>&quot;policy1&quot;</td><td>2018-09-10</td><td>&quot;Chat&quot;</td><td>&quot;policy4&quot;</td><td>366506</td><td>1276</td><td>&quot;Family&quot;</td><td>&quot;Email&quot;</td><td>&quot;Text&quot;</td><td>&quot;Weekends&quot;</td><td>&quot;English&quot;</td><td>&quot;Segment2&quot;</td></tr><tr><td>&hellip;</td><td>&hellip;</td><td>&hellip;</td><td>&hellip;</td><td>&hellip;</td><td>&hellip;</td><td>&hellip;</td><td>&hellip;</td><td>&hellip;</td><td>&hellip;</td><td>&hellip;</td><td>&hellip;</td><td>&hellip;</td><td>&hellip;</td><td>&hellip;</td><td>&hellip;</td><td>&hellip;</td><td>&hellip;</td><td>&hellip;</td><td>&hellip;</td></tr><tr><td>44809</td><td>35</td><td>&quot;Female&quot;</td><td>&quot;Divorced&quot;</td><td>&quot;Associate Degr…</td><td>&quot;Andaman and Ni…</td><td>&quot;Salesperson&quot;</td><td>120850</td><td>&quot;policy3&quot;</td><td>2019-01-01</td><td>&quot;Mobile App&quot;</td><td>&quot;policy1&quot;</td><td>586401</td><td>4404</td><td>&quot;Family&quot;</td><td>&quot;In-Person Meet…</td><td>&quot;Phone&quot;</td><td>&quot;Afternoon&quot;</td><td>&quot;German&quot;</td><td>&quot;Segment5&quot;</td></tr><tr><td>65485</td><td>61</td><td>&quot;Male&quot;</td><td>&quot;Single&quot;</td><td>&quot;Doctorate&quot;</td><td>&quot;Himachal Prade…</td><td>&quot;Entrepreneur&quot;</td><td>122309</td><td>&quot;policy5&quot;</td><td>2021-05-18</td><td>&quot;Mobile App&quot;</td><td>&quot;policy4&quot;</td><td>637733</td><td>1285</td><td>&quot;Group&quot;</td><td>&quot;Text&quot;</td><td>&quot;Mail&quot;</td><td>&quot;Afternoon&quot;</td><td>&quot;German&quot;</td><td>&quot;Segment1&quot;</td></tr><tr><td>26213</td><td>25</td><td>&quot;Male&quot;</td><td>&quot;Divorced&quot;</td><td>&quot;Doctorate&quot;</td><td>&quot;Assam&quot;</td><td>&quot;Teacher&quot;</td><td>49258</td><td>&quot;policy2&quot;</td><td>2018-11-27</td><td>&quot;In-Person&quot;</td><td>&quot;policy1&quot;</td><td>631057</td><td>4407</td><td>&quot;Individual&quot;</td><td>&quot;Text&quot;</td><td>&quot;Text&quot;</td><td>&quot;Weekends&quot;</td><td>&quot;French&quot;</td><td>&quot;Segment4&quot;</td></tr><tr><td>63136</td><td>42</td><td>&quot;Male&quot;</td><td>&quot;Married&quot;</td><td>&quot;Doctorate&quot;</td><td>&quot;Andhra Pradesh…</td><td>&quot;Artist&quot;</td><td>66301</td><td>&quot;policy4&quot;</td><td>2021-06-04</td><td>&quot;In-Person&quot;</td><td>&quot;policy1&quot;</td><td>730385</td><td>4482</td><td>&quot;Business&quot;</td><td>&quot;Mail&quot;</td><td>&quot;Phone&quot;</td><td>&quot;Morning&quot;</td><td>&quot;French&quot;</td><td>&quot;Segment5&quot;</td></tr><tr><td>62125</td><td>20</td><td>&quot;Male&quot;</td><td>&quot;Divorced&quot;</td><td>&quot;Doctorate&quot;</td><td>&quot;Daman and Diu&quot;</td><td>&quot;Salesperson&quot;</td><td>136632</td><td>&quot;policy2&quot;</td><td>2022-10-14</td><td>&quot;Phone&quot;</td><td>&quot;policy1&quot;</td><td>743262</td><td>4499</td><td>&quot;Group&quot;</td><td>&quot;Text&quot;</td><td>&quot;In-Person Meet…</td><td>&quot;Evening&quot;</td><td>&quot;German&quot;</td><td>&quot;Segment2&quot;</td></tr></tbody></table></div>"
      ],
      "text/plain": [
       "shape: (53_504, 20)\n",
       "┌─────────────┬─────┬────────┬─────────────┬───┬────────────┬────────────┬────────────┬────────────┐\n",
       "│ Customer ID ┆ Age ┆ Gender ┆ Marital     ┆ … ┆ Preferred  ┆ Preferred  ┆ Preferred  ┆ Segmentati │\n",
       "│ ---         ┆ --- ┆ ---    ┆ Status      ┆   ┆ Communicat ┆ Contact    ┆ Language   ┆ on Group   │\n",
       "│ i64         ┆ i64 ┆ str    ┆ ---         ┆   ┆ ion        ┆ Time       ┆ ---        ┆ ---        │\n",
       "│             ┆     ┆        ┆ str         ┆   ┆ Channel    ┆ ---        ┆ str        ┆ str        │\n",
       "│             ┆     ┆        ┆             ┆   ┆ ---        ┆ str        ┆            ┆            │\n",
       "│             ┆     ┆        ┆             ┆   ┆ str        ┆            ┆            ┆            │\n",
       "╞═════════════╪═════╪════════╪═════════════╪═══╪════════════╪════════════╪════════════╪════════════╡\n",
       "│ 84966       ┆ 23  ┆ Female ┆ Married     ┆ … ┆ In-Person  ┆ Afternoon  ┆ English    ┆ Segment5   │\n",
       "│             ┆     ┆        ┆             ┆   ┆ Meeting    ┆            ┆            ┆            │\n",
       "│ 95568       ┆ 26  ┆ Male   ┆ Widowed     ┆ … ┆ In-Person  ┆ Morning    ┆ French     ┆ Segment5   │\n",
       "│             ┆     ┆        ┆             ┆   ┆ Meeting    ┆            ┆            ┆            │\n",
       "│ 10544       ┆ 29  ┆ Female ┆ Single      ┆ … ┆ Mail       ┆ Evening    ┆ German     ┆ Segment3   │\n",
       "│ 77033       ┆ 20  ┆ Male   ┆ Divorced    ┆ … ┆ In-Person  ┆ Anytime    ┆ French     ┆ Segment3   │\n",
       "│             ┆     ┆        ┆             ┆   ┆ Meeting    ┆            ┆            ┆            │\n",
       "│ 88160       ┆ 25  ┆ Female ┆ Separated   ┆ … ┆ Text       ┆ Weekends   ┆ English    ┆ Segment2   │\n",
       "│ …           ┆ …   ┆ …      ┆ …           ┆ … ┆ …          ┆ …          ┆ …          ┆ …          │\n",
       "│ 44809       ┆ 35  ┆ Female ┆ Divorced    ┆ … ┆ Phone      ┆ Afternoon  ┆ German     ┆ Segment5   │\n",
       "│ 65485       ┆ 61  ┆ Male   ┆ Single      ┆ … ┆ Mail       ┆ Afternoon  ┆ German     ┆ Segment1   │\n",
       "│ 26213       ┆ 25  ┆ Male   ┆ Divorced    ┆ … ┆ Text       ┆ Weekends   ┆ French     ┆ Segment4   │\n",
       "│ 63136       ┆ 42  ┆ Male   ┆ Married     ┆ … ┆ Phone      ┆ Morning    ┆ French     ┆ Segment5   │\n",
       "│ 62125       ┆ 20  ┆ Male   ┆ Divorced    ┆ … ┆ In-Person  ┆ Evening    ┆ German     ┆ Segment2   │\n",
       "│             ┆     ┆        ┆             ┆   ┆ Meeting    ┆            ┆            ┆            │\n",
       "└─────────────┴─────┴────────┴─────────────┴───┴────────────┴────────────┴────────────┴────────────┘"
      ]
     },
     "execution_count": 6,
     "metadata": {},
     "output_type": "execute_result"
    }
   ],
   "source": [
    "df"
   ]
  },
  {
   "cell_type": "code",
   "execution_count": 7,
   "metadata": {},
   "outputs": [
    {
     "name": "stdout",
     "output_type": "stream",
     "text": [
      "numero de filas = 53504 \n",
      "numero de columnas = 20\n"
     ]
    }
   ],
   "source": [
    "nro_filas, nro_columnas = df.shape\n",
    "print(f\"numero de filas = {nro_filas} \\nnumero de columnas = {nro_columnas}\")"
   ]
  },
  {
   "cell_type": "markdown",
   "metadata": {},
   "source": [
    "## Casos de uso"
   ]
  },
  {
   "cell_type": "markdown",
   "metadata": {},
   "source": [
    "### Caso 1 cuando la data obtenida debe ser mezclada con data de otra fuente para poder ser analizada\n",
    "### En este caso vamos a validar si el purchase history fue extraido en algun feriado de USA"
   ]
  },
  {
   "cell_type": "code",
   "execution_count": 8,
   "metadata": {},
   "outputs": [],
   "source": [
    "holiday_us = holidays.country_holidays(\n",
    "    country=\"US\",\n",
    "    years=[\n",
    "        *range(\n",
    "            df[\"Purchase History\"].min().year, df[\"Purchase History\"].max().year + 1\n",
    "        ),\n",
    "    ],\n",
    ")"
   ]
  },
  {
   "cell_type": "code",
   "execution_count": 9,
   "metadata": {},
   "outputs": [],
   "source": [
    "df_holiday = pl.DataFrame(\n",
    "    data=list(holiday_us.items()),\n",
    "    schema=[\"HOLIDAY_DATE\", \"HOLIDAY_NAME\"],\n",
    "    orient=\"row\",\n",
    ")"
   ]
  },
  {
   "cell_type": "code",
   "execution_count": 11,
   "metadata": {},
   "outputs": [],
   "source": [
    "joined_df = (\n",
    "    df.join(\n",
    "        other=df_holiday,\n",
    "        left_on=[\"Purchase History\"],\n",
    "        right_on=[\"HOLIDAY_DATE\"],\n",
    "        how=\"left\",\n",
    "    )\n",
    "    .select(*(pl.col(name) for name in df.columns), pl.col(\"HOLIDAY_NAME\"))\n",
    "    .sort(\"Purchase History\", descending=True)\n",
    ")"
   ]
  },
  {
   "cell_type": "code",
   "execution_count": 12,
   "metadata": {},
   "outputs": [
    {
     "data": {
      "text/plain": [
       "['Customer ID',\n",
       " 'Age',\n",
       " 'Gender',\n",
       " 'Marital Status',\n",
       " 'Education Level',\n",
       " 'Geographic Information',\n",
       " 'Occupation',\n",
       " 'Income Level',\n",
       " 'Behavioral Data',\n",
       " 'Purchase History',\n",
       " 'Interactions with Customer Service',\n",
       " 'Insurance Products Owned',\n",
       " 'Coverage Amount',\n",
       " 'Premium Amount',\n",
       " 'Policy Type',\n",
       " 'Customer Preferences',\n",
       " 'Preferred Communication Channel',\n",
       " 'Preferred Contact Time',\n",
       " 'Preferred Language',\n",
       " 'Segmentation Group',\n",
       " 'HOLIDAY_NAME']"
      ]
     },
     "execution_count": 12,
     "metadata": {},
     "output_type": "execute_result"
    }
   ],
   "source": [
    "joined_df.columns"
   ]
  },
  {
   "cell_type": "markdown",
   "metadata": {},
   "source": [
    "## Extraemos la el conjunto agrupado de datos agrupados basandonos en Age y Gender ( Edad y genero ) y ordenados basado en Purchase History\n",
    "## Notese que aqui se estan usando funciones ventana para no filtra mutliples veces el mismo dataframe"
   ]
  },
  {
   "cell_type": "code",
   "execution_count": 13,
   "metadata": {},
   "outputs": [
    {
     "data": {
      "text/html": [
       "<div><style>\n",
       ".dataframe > thead > tr,\n",
       ".dataframe > tbody > tr {\n",
       "  text-align: right;\n",
       "  white-space: pre-wrap;\n",
       "}\n",
       "</style>\n",
       "<small>shape: (15, 22)</small><table border=\"1\" class=\"dataframe\"><thead><tr><th>Customer ID</th><th>Age</th><th>Gender</th><th>Marital Status</th><th>Education Level</th><th>Geographic Information</th><th>Occupation</th><th>Income Level</th><th>Behavioral Data</th><th>Purchase History</th><th>Interactions with Customer Service</th><th>Insurance Products Owned</th><th>Coverage Amount</th><th>Premium Amount</th><th>Policy Type</th><th>Customer Preferences</th><th>Preferred Communication Channel</th><th>Preferred Contact Time</th><th>Preferred Language</th><th>Segmentation Group</th><th>HOLIDAY_NAME</th><th>row_num</th></tr><tr><td>i64</td><td>i64</td><td>str</td><td>str</td><td>str</td><td>str</td><td>str</td><td>i64</td><td>str</td><td>date</td><td>str</td><td>str</td><td>i64</td><td>i64</td><td>str</td><td>str</td><td>str</td><td>str</td><td>str</td><td>str</td><td>str</td><td>u32</td></tr></thead><tbody><tr><td>4367</td><td>51</td><td>&quot;Female&quot;</td><td>&quot;Divorced&quot;</td><td>&quot;Doctorate&quot;</td><td>&quot;Sikkim&quot;</td><td>&quot;Manager&quot;</td><td>111498</td><td>&quot;policy5&quot;</td><td>2018-01-15</td><td>&quot;Mobile App&quot;</td><td>&quot;policy4&quot;</td><td>980257</td><td>3609</td><td>&quot;Individual&quot;</td><td>&quot;Email&quot;</td><td>&quot;Text&quot;</td><td>&quot;Morning&quot;</td><td>&quot;Mandarin&quot;</td><td>&quot;Segment4&quot;</td><td>&quot;Martin Luther …</td><td>356</td></tr><tr><td>5420</td><td>51</td><td>&quot;Female&quot;</td><td>&quot;Divorced&quot;</td><td>&quot;Associate Degr…</td><td>&quot;Lakshadweep&quot;</td><td>&quot;Entrepreneur&quot;</td><td>56311</td><td>&quot;policy4&quot;</td><td>2018-09-03</td><td>&quot;Mobile App&quot;</td><td>&quot;policy1&quot;</td><td>579925</td><td>1916</td><td>&quot;Business&quot;</td><td>&quot;Text&quot;</td><td>&quot;Email&quot;</td><td>&quot;Weekends&quot;</td><td>&quot;Mandarin&quot;</td><td>&quot;Segment1&quot;</td><td>&quot;Labor Day&quot;</td><td>315</td></tr><tr><td>20638</td><td>51</td><td>&quot;Female&quot;</td><td>&quot;Divorced&quot;</td><td>&quot;Associate Degr…</td><td>&quot;Odisha&quot;</td><td>&quot;Lawyer&quot;</td><td>126166</td><td>&quot;policy4&quot;</td><td>2018-11-22</td><td>&quot;Chat&quot;</td><td>&quot;policy2&quot;</td><td>785007</td><td>4026</td><td>&quot;Business&quot;</td><td>&quot;Email&quot;</td><td>&quot;Mail&quot;</td><td>&quot;Afternoon&quot;</td><td>&quot;French&quot;</td><td>&quot;Segment4&quot;</td><td>&quot;Thanksgiving&quot;</td><td>303</td></tr><tr><td>34009</td><td>51</td><td>&quot;Female&quot;</td><td>&quot;Divorced&quot;</td><td>&quot;Bachelor&#x27;s Deg…</td><td>&quot;Kerala&quot;</td><td>&quot;Salesperson&quot;</td><td>125836</td><td>&quot;policy2&quot;</td><td>2019-10-14</td><td>&quot;In-Person&quot;</td><td>&quot;policy5&quot;</td><td>674120</td><td>836</td><td>&quot;Family&quot;</td><td>&quot;In-Person Meet…</td><td>&quot;Mail&quot;</td><td>&quot;Evening&quot;</td><td>&quot;Mandarin&quot;</td><td>&quot;Segment5&quot;</td><td>&quot;Columbus Day&quot;</td><td>258</td></tr><tr><td>67146</td><td>51</td><td>&quot;Female&quot;</td><td>&quot;Divorced&quot;</td><td>&quot;High School Di…</td><td>&quot;Tamil Nadu&quot;</td><td>&quot;Nurse&quot;</td><td>74475</td><td>&quot;policy4&quot;</td><td>2020-05-25</td><td>&quot;Phone&quot;</td><td>&quot;policy5&quot;</td><td>309146</td><td>1041</td><td>&quot;Family&quot;</td><td>&quot;In-Person Meet…</td><td>&quot;Text&quot;</td><td>&quot;Anytime&quot;</td><td>&quot;English&quot;</td><td>&quot;Segment1&quot;</td><td>&quot;Memorial Day&quot;</td><td>200</td></tr><tr><td>&hellip;</td><td>&hellip;</td><td>&hellip;</td><td>&hellip;</td><td>&hellip;</td><td>&hellip;</td><td>&hellip;</td><td>&hellip;</td><td>&hellip;</td><td>&hellip;</td><td>&hellip;</td><td>&hellip;</td><td>&hellip;</td><td>&hellip;</td><td>&hellip;</td><td>&hellip;</td><td>&hellip;</td><td>&hellip;</td><td>&hellip;</td><td>&hellip;</td><td>&hellip;</td><td>&hellip;</td></tr><tr><td>2543</td><td>51</td><td>&quot;Female&quot;</td><td>&quot;Married&quot;</td><td>&quot;Associate Degr…</td><td>&quot;Manipur&quot;</td><td>&quot;Lawyer&quot;</td><td>31804</td><td>&quot;policy5&quot;</td><td>2022-01-17</td><td>&quot;Chat&quot;</td><td>&quot;policy2&quot;</td><td>144982</td><td>762</td><td>&quot;Group&quot;</td><td>&quot;Email&quot;</td><td>&quot;Mail&quot;</td><td>&quot;Weekends&quot;</td><td>&quot;English&quot;</td><td>&quot;Segment2&quot;</td><td>&quot;Martin Luther …</td><td>119</td></tr><tr><td>64759</td><td>51</td><td>&quot;Female&quot;</td><td>&quot;Divorced&quot;</td><td>&quot;Doctorate&quot;</td><td>&quot;Manipur&quot;</td><td>&quot;Lawyer&quot;</td><td>29611</td><td>&quot;policy3&quot;</td><td>2022-12-25</td><td>&quot;Phone&quot;</td><td>&quot;policy3&quot;</td><td>883127</td><td>4470</td><td>&quot;Group&quot;</td><td>&quot;In-Person Meet…</td><td>&quot;In-Person Meet…</td><td>&quot;Anytime&quot;</td><td>&quot;Mandarin&quot;</td><td>&quot;Segment5&quot;</td><td>&quot;Christmas Day&quot;</td><td>56</td></tr><tr><td>39119</td><td>51</td><td>&quot;Female&quot;</td><td>&quot;Married&quot;</td><td>&quot;High School Di…</td><td>&quot;Uttar Pradesh&quot;</td><td>&quot;Salesperson&quot;</td><td>76224</td><td>&quot;policy3&quot;</td><td>2023-01-01</td><td>&quot;Chat&quot;</td><td>&quot;policy5&quot;</td><td>759556</td><td>3453</td><td>&quot;Group&quot;</td><td>&quot;Phone&quot;</td><td>&quot;In-Person Meet…</td><td>&quot;Weekends&quot;</td><td>&quot;English&quot;</td><td>&quot;Segment4&quot;</td><td>&quot;New Year&#x27;s Day…</td><td>54</td></tr><tr><td>84892</td><td>51</td><td>&quot;Female&quot;</td><td>&quot;Married&quot;</td><td>&quot;Master&#x27;s Degre…</td><td>&quot;Delhi&quot;</td><td>&quot;Salesperson&quot;</td><td>109043</td><td>&quot;policy5&quot;</td><td>2023-11-11</td><td>&quot;In-Person&quot;</td><td>&quot;policy4&quot;</td><td>280972</td><td>4649</td><td>&quot;Group&quot;</td><td>&quot;In-Person Meet…</td><td>&quot;Email&quot;</td><td>&quot;Weekends&quot;</td><td>&quot;German&quot;</td><td>&quot;Segment4&quot;</td><td>&quot;Veterans Day&quot;</td><td>8</td></tr><tr><td>11056</td><td>51</td><td>&quot;Female&quot;</td><td>&quot;Divorced&quot;</td><td>&quot;High School Di…</td><td>&quot;Arunachal Prad…</td><td>&quot;Entrepreneur&quot;</td><td>81415</td><td>&quot;policy2&quot;</td><td>2023-11-11</td><td>&quot;Chat&quot;</td><td>&quot;policy4&quot;</td><td>148084</td><td>2396</td><td>&quot;Group&quot;</td><td>&quot;Text&quot;</td><td>&quot;In-Person Meet…</td><td>&quot;Anytime&quot;</td><td>&quot;German&quot;</td><td>&quot;Segment4&quot;</td><td>&quot;Veterans Day&quot;</td><td>9</td></tr></tbody></table></div>"
      ],
      "text/plain": [
       "shape: (15, 22)\n",
       "┌─────────────┬─────┬────────┬──────────┬───┬───────────┬────────────────┬───────────────┬─────────┐\n",
       "│ Customer ID ┆ Age ┆ Gender ┆ Marital  ┆ … ┆ Preferred ┆ Segmentation   ┆ HOLIDAY_NAME  ┆ row_num │\n",
       "│ ---         ┆ --- ┆ ---    ┆ Status   ┆   ┆ Language  ┆ Group          ┆ ---           ┆ ---     │\n",
       "│ i64         ┆ i64 ┆ str    ┆ ---      ┆   ┆ ---       ┆ ---            ┆ str           ┆ u32     │\n",
       "│             ┆     ┆        ┆ str      ┆   ┆ str       ┆ str            ┆               ┆         │\n",
       "╞═════════════╪═════╪════════╪══════════╪═══╪═══════════╪════════════════╪═══════════════╪═════════╡\n",
       "│ 4367        ┆ 51  ┆ Female ┆ Divorced ┆ … ┆ Mandarin  ┆ Segment4       ┆ Martin Luther ┆ 356     │\n",
       "│             ┆     ┆        ┆          ┆   ┆           ┆                ┆ King Jr. Day  ┆         │\n",
       "│ 5420        ┆ 51  ┆ Female ┆ Divorced ┆ … ┆ Mandarin  ┆ Segment1       ┆ Labor Day     ┆ 315     │\n",
       "│ 20638       ┆ 51  ┆ Female ┆ Divorced ┆ … ┆ French    ┆ Segment4       ┆ Thanksgiving  ┆ 303     │\n",
       "│ 34009       ┆ 51  ┆ Female ┆ Divorced ┆ … ┆ Mandarin  ┆ Segment5       ┆ Columbus Day  ┆ 258     │\n",
       "│ 67146       ┆ 51  ┆ Female ┆ Divorced ┆ … ┆ English   ┆ Segment1       ┆ Memorial Day  ┆ 200     │\n",
       "│ …           ┆ …   ┆ …      ┆ …        ┆ … ┆ …         ┆ …              ┆ …             ┆ …       │\n",
       "│ 2543        ┆ 51  ┆ Female ┆ Married  ┆ … ┆ English   ┆ Segment2       ┆ Martin Luther ┆ 119     │\n",
       "│             ┆     ┆        ┆          ┆   ┆           ┆                ┆ King Jr. Day  ┆         │\n",
       "│ 64759       ┆ 51  ┆ Female ┆ Divorced ┆ … ┆ Mandarin  ┆ Segment5       ┆ Christmas Day ┆ 56      │\n",
       "│ 39119       ┆ 51  ┆ Female ┆ Married  ┆ … ┆ English   ┆ Segment4       ┆ New Year's    ┆ 54      │\n",
       "│             ┆     ┆        ┆          ┆   ┆           ┆                ┆ Day           ┆         │\n",
       "│ 84892       ┆ 51  ┆ Female ┆ Married  ┆ … ┆ German    ┆ Segment4       ┆ Veterans Day  ┆ 8       │\n",
       "│ 11056       ┆ 51  ┆ Female ┆ Divorced ┆ … ┆ German    ┆ Segment4       ┆ Veterans Day  ┆ 9       │\n",
       "└─────────────┴─────┴────────┴──────────┴───┴───────────┴────────────────┴───────────────┴─────────┘"
      ]
     },
     "execution_count": 13,
     "metadata": {},
     "output_type": "execute_result"
    }
   ],
   "source": [
    "age_gender_purchase_df = (\n",
    "    joined_df.select(\n",
    "        pl.col(\"*\"),\n",
    "        pl.col(\"Purchase History\")\n",
    "        .rank(\"ordinal\", descending=True)\n",
    "        .over([pl.col(\"Age\"), pl.col(\"Gender\")])\n",
    "        .alias(\"row_num\"),\n",
    "    )\n",
    "    .filter(\n",
    "        (pl.col(\"Age\") == 51)\n",
    "        & (pl.col(\"Gender\") == \"Female\")\n",
    "        & (pl.col(\"HOLIDAY_NAME\").is_not_null())\n",
    "    )\n",
    "    .sort(\"Purchase History\")\n",
    ")\n",
    "\n",
    "age_gender_purchase_df"
   ]
  },
  {
   "cell_type": "markdown",
   "metadata": {},
   "source": [
    "### Exportamos el resultado hacia un archivo csv o parquet dependiendo de lo que el cliente requiera "
   ]
  },
  {
   "cell_type": "code",
   "execution_count": 15,
   "metadata": {},
   "outputs": [],
   "source": [
    "age_gender_purchase_df.write_csv(\"./csv/exported_age_gender_purchase_df.csv\")\n",
    "age_gender_purchase_df.write_parquet(\n",
    "    \"./parquet/exported_age_gender_purchase_df.parquet\"\n",
    ")"
   ]
  },
  {
   "cell_type": "markdown",
   "metadata": {},
   "source": [
    "# EXPERIMENTAL"
   ]
  },
  {
   "cell_type": "markdown",
   "metadata": {},
   "source": [
    "### Experimental : Cargamos la data extraida a una base de datos"
   ]
  },
  {
   "cell_type": "code",
   "execution_count": 16,
   "metadata": {},
   "outputs": [
    {
     "data": {
      "text/plain": [
       "True"
      ]
     },
     "execution_count": 16,
     "metadata": {},
     "output_type": "execute_result"
    }
   ],
   "source": [
    "import dotenv\n",
    "import os\n",
    "\n",
    "dotenv.load_dotenv()"
   ]
  },
  {
   "cell_type": "markdown",
   "metadata": {},
   "source": [
    "### Se carga la data a una base de datos de docker\n",
    "### para correr el contenedor en local instalar docker y docker compose \n",
    "### Seguidamente ejecutar el siguiente comando\n",
    "\n",
    "docker compose up -d \n"
   ]
  },
  {
   "cell_type": "code",
   "execution_count": 19,
   "metadata": {},
   "outputs": [
    {
     "data": {
      "text/plain": [
       "15"
      ]
     },
     "execution_count": 19,
     "metadata": {},
     "output_type": "execute_result"
    }
   ],
   "source": [
    "schema = \"demo_datalake\"\n",
    "db_user = os.environ[\"DB_USER\"]\n",
    "db_pass = os.environ[\"DB_PASS\"]\n",
    "db_host = os.environ[\"DB_HOST\"]\n",
    "db_port = os.environ[\"DB_PORT\"]\n",
    "\n",
    "\n",
    "connection_uri = f\"postgresql://{db_user}:{db_pass}@{db_host}:{db_port}/santex\"\n",
    "\n",
    "age_gender_purchase_df.write_database(\n",
    "    table_name=f\"{schema}.incoming_age_gender_group\",\n",
    "    connection=connection_uri,\n",
    "    if_table_exists=\"append\",\n",
    ")"
   ]
  },
  {
   "cell_type": "markdown",
   "metadata": {},
   "source": [
    "## Se lee la base de datos y se valida que se inserto de manera correcta la data"
   ]
  },
  {
   "cell_type": "code",
   "execution_count": 20,
   "metadata": {},
   "outputs": [
    {
     "data": {
      "text/html": [
       "<div><style>\n",
       ".dataframe > thead > tr,\n",
       ".dataframe > tbody > tr {\n",
       "  text-align: right;\n",
       "  white-space: pre-wrap;\n",
       "}\n",
       "</style>\n",
       "<small>shape: (60, 22)</small><table border=\"1\" class=\"dataframe\"><thead><tr><th>Customer ID</th><th>Age</th><th>Gender</th><th>Marital Status</th><th>Education Level</th><th>Geographic Information</th><th>Occupation</th><th>Income Level</th><th>Behavioral Data</th><th>Purchase History</th><th>Interactions with Customer Service</th><th>Insurance Products Owned</th><th>Coverage Amount</th><th>Premium Amount</th><th>Policy Type</th><th>Customer Preferences</th><th>Preferred Communication Channel</th><th>Preferred Contact Time</th><th>Preferred Language</th><th>Segmentation Group</th><th>HOLIDAY_NAME</th><th>row_num</th></tr><tr><td>i64</td><td>i64</td><td>str</td><td>str</td><td>str</td><td>str</td><td>str</td><td>i64</td><td>str</td><td>date</td><td>str</td><td>str</td><td>i64</td><td>i64</td><td>str</td><td>str</td><td>str</td><td>str</td><td>str</td><td>str</td><td>str</td><td>i64</td></tr></thead><tbody><tr><td>4367</td><td>51</td><td>&quot;Female&quot;</td><td>&quot;Divorced&quot;</td><td>&quot;Doctorate&quot;</td><td>&quot;Sikkim&quot;</td><td>&quot;Manager&quot;</td><td>111498</td><td>&quot;policy5&quot;</td><td>2018-01-15</td><td>&quot;Mobile App&quot;</td><td>&quot;policy4&quot;</td><td>980257</td><td>3609</td><td>&quot;Individual&quot;</td><td>&quot;Email&quot;</td><td>&quot;Text&quot;</td><td>&quot;Morning&quot;</td><td>&quot;Mandarin&quot;</td><td>&quot;Segment4&quot;</td><td>&quot;Martin Luther …</td><td>356</td></tr><tr><td>5420</td><td>51</td><td>&quot;Female&quot;</td><td>&quot;Divorced&quot;</td><td>&quot;Associate Degr…</td><td>&quot;Lakshadweep&quot;</td><td>&quot;Entrepreneur&quot;</td><td>56311</td><td>&quot;policy4&quot;</td><td>2018-09-03</td><td>&quot;Mobile App&quot;</td><td>&quot;policy1&quot;</td><td>579925</td><td>1916</td><td>&quot;Business&quot;</td><td>&quot;Text&quot;</td><td>&quot;Email&quot;</td><td>&quot;Weekends&quot;</td><td>&quot;Mandarin&quot;</td><td>&quot;Segment1&quot;</td><td>&quot;Labor Day&quot;</td><td>315</td></tr><tr><td>20638</td><td>51</td><td>&quot;Female&quot;</td><td>&quot;Divorced&quot;</td><td>&quot;Associate Degr…</td><td>&quot;Odisha&quot;</td><td>&quot;Lawyer&quot;</td><td>126166</td><td>&quot;policy4&quot;</td><td>2018-11-22</td><td>&quot;Chat&quot;</td><td>&quot;policy2&quot;</td><td>785007</td><td>4026</td><td>&quot;Business&quot;</td><td>&quot;Email&quot;</td><td>&quot;Mail&quot;</td><td>&quot;Afternoon&quot;</td><td>&quot;French&quot;</td><td>&quot;Segment4&quot;</td><td>&quot;Thanksgiving&quot;</td><td>303</td></tr><tr><td>34009</td><td>51</td><td>&quot;Female&quot;</td><td>&quot;Divorced&quot;</td><td>&quot;Bachelor&#x27;s Deg…</td><td>&quot;Kerala&quot;</td><td>&quot;Salesperson&quot;</td><td>125836</td><td>&quot;policy2&quot;</td><td>2019-10-14</td><td>&quot;In-Person&quot;</td><td>&quot;policy5&quot;</td><td>674120</td><td>836</td><td>&quot;Family&quot;</td><td>&quot;In-Person Meet…</td><td>&quot;Mail&quot;</td><td>&quot;Evening&quot;</td><td>&quot;Mandarin&quot;</td><td>&quot;Segment5&quot;</td><td>&quot;Columbus Day&quot;</td><td>258</td></tr><tr><td>67146</td><td>51</td><td>&quot;Female&quot;</td><td>&quot;Divorced&quot;</td><td>&quot;High School Di…</td><td>&quot;Tamil Nadu&quot;</td><td>&quot;Nurse&quot;</td><td>74475</td><td>&quot;policy4&quot;</td><td>2020-05-25</td><td>&quot;Phone&quot;</td><td>&quot;policy5&quot;</td><td>309146</td><td>1041</td><td>&quot;Family&quot;</td><td>&quot;In-Person Meet…</td><td>&quot;Text&quot;</td><td>&quot;Anytime&quot;</td><td>&quot;English&quot;</td><td>&quot;Segment1&quot;</td><td>&quot;Memorial Day&quot;</td><td>200</td></tr><tr><td>&hellip;</td><td>&hellip;</td><td>&hellip;</td><td>&hellip;</td><td>&hellip;</td><td>&hellip;</td><td>&hellip;</td><td>&hellip;</td><td>&hellip;</td><td>&hellip;</td><td>&hellip;</td><td>&hellip;</td><td>&hellip;</td><td>&hellip;</td><td>&hellip;</td><td>&hellip;</td><td>&hellip;</td><td>&hellip;</td><td>&hellip;</td><td>&hellip;</td><td>&hellip;</td><td>&hellip;</td></tr><tr><td>2543</td><td>51</td><td>&quot;Female&quot;</td><td>&quot;Married&quot;</td><td>&quot;Associate Degr…</td><td>&quot;Manipur&quot;</td><td>&quot;Lawyer&quot;</td><td>31804</td><td>&quot;policy5&quot;</td><td>2022-01-17</td><td>&quot;Chat&quot;</td><td>&quot;policy2&quot;</td><td>144982</td><td>762</td><td>&quot;Group&quot;</td><td>&quot;Email&quot;</td><td>&quot;Mail&quot;</td><td>&quot;Weekends&quot;</td><td>&quot;English&quot;</td><td>&quot;Segment2&quot;</td><td>&quot;Martin Luther …</td><td>119</td></tr><tr><td>64759</td><td>51</td><td>&quot;Female&quot;</td><td>&quot;Divorced&quot;</td><td>&quot;Doctorate&quot;</td><td>&quot;Manipur&quot;</td><td>&quot;Lawyer&quot;</td><td>29611</td><td>&quot;policy3&quot;</td><td>2022-12-25</td><td>&quot;Phone&quot;</td><td>&quot;policy3&quot;</td><td>883127</td><td>4470</td><td>&quot;Group&quot;</td><td>&quot;In-Person Meet…</td><td>&quot;In-Person Meet…</td><td>&quot;Anytime&quot;</td><td>&quot;Mandarin&quot;</td><td>&quot;Segment5&quot;</td><td>&quot;Christmas Day&quot;</td><td>56</td></tr><tr><td>39119</td><td>51</td><td>&quot;Female&quot;</td><td>&quot;Married&quot;</td><td>&quot;High School Di…</td><td>&quot;Uttar Pradesh&quot;</td><td>&quot;Salesperson&quot;</td><td>76224</td><td>&quot;policy3&quot;</td><td>2023-01-01</td><td>&quot;Chat&quot;</td><td>&quot;policy5&quot;</td><td>759556</td><td>3453</td><td>&quot;Group&quot;</td><td>&quot;Phone&quot;</td><td>&quot;In-Person Meet…</td><td>&quot;Weekends&quot;</td><td>&quot;English&quot;</td><td>&quot;Segment4&quot;</td><td>&quot;New Year&#x27;s Day…</td><td>54</td></tr><tr><td>84892</td><td>51</td><td>&quot;Female&quot;</td><td>&quot;Married&quot;</td><td>&quot;Master&#x27;s Degre…</td><td>&quot;Delhi&quot;</td><td>&quot;Salesperson&quot;</td><td>109043</td><td>&quot;policy5&quot;</td><td>2023-11-11</td><td>&quot;In-Person&quot;</td><td>&quot;policy4&quot;</td><td>280972</td><td>4649</td><td>&quot;Group&quot;</td><td>&quot;In-Person Meet…</td><td>&quot;Email&quot;</td><td>&quot;Weekends&quot;</td><td>&quot;German&quot;</td><td>&quot;Segment4&quot;</td><td>&quot;Veterans Day&quot;</td><td>8</td></tr><tr><td>11056</td><td>51</td><td>&quot;Female&quot;</td><td>&quot;Divorced&quot;</td><td>&quot;High School Di…</td><td>&quot;Arunachal Prad…</td><td>&quot;Entrepreneur&quot;</td><td>81415</td><td>&quot;policy2&quot;</td><td>2023-11-11</td><td>&quot;Chat&quot;</td><td>&quot;policy4&quot;</td><td>148084</td><td>2396</td><td>&quot;Group&quot;</td><td>&quot;Text&quot;</td><td>&quot;In-Person Meet…</td><td>&quot;Anytime&quot;</td><td>&quot;German&quot;</td><td>&quot;Segment4&quot;</td><td>&quot;Veterans Day&quot;</td><td>9</td></tr></tbody></table></div>"
      ],
      "text/plain": [
       "shape: (60, 22)\n",
       "┌─────────────┬─────┬────────┬──────────┬───┬───────────┬────────────────┬───────────────┬─────────┐\n",
       "│ Customer ID ┆ Age ┆ Gender ┆ Marital  ┆ … ┆ Preferred ┆ Segmentation   ┆ HOLIDAY_NAME  ┆ row_num │\n",
       "│ ---         ┆ --- ┆ ---    ┆ Status   ┆   ┆ Language  ┆ Group          ┆ ---           ┆ ---     │\n",
       "│ i64         ┆ i64 ┆ str    ┆ ---      ┆   ┆ ---       ┆ ---            ┆ str           ┆ i64     │\n",
       "│             ┆     ┆        ┆ str      ┆   ┆ str       ┆ str            ┆               ┆         │\n",
       "╞═════════════╪═════╪════════╪══════════╪═══╪═══════════╪════════════════╪═══════════════╪═════════╡\n",
       "│ 4367        ┆ 51  ┆ Female ┆ Divorced ┆ … ┆ Mandarin  ┆ Segment4       ┆ Martin Luther ┆ 356     │\n",
       "│             ┆     ┆        ┆          ┆   ┆           ┆                ┆ King Jr. Day  ┆         │\n",
       "│ 5420        ┆ 51  ┆ Female ┆ Divorced ┆ … ┆ Mandarin  ┆ Segment1       ┆ Labor Day     ┆ 315     │\n",
       "│ 20638       ┆ 51  ┆ Female ┆ Divorced ┆ … ┆ French    ┆ Segment4       ┆ Thanksgiving  ┆ 303     │\n",
       "│ 34009       ┆ 51  ┆ Female ┆ Divorced ┆ … ┆ Mandarin  ┆ Segment5       ┆ Columbus Day  ┆ 258     │\n",
       "│ 67146       ┆ 51  ┆ Female ┆ Divorced ┆ … ┆ English   ┆ Segment1       ┆ Memorial Day  ┆ 200     │\n",
       "│ …           ┆ …   ┆ …      ┆ …        ┆ … ┆ …         ┆ …              ┆ …             ┆ …       │\n",
       "│ 2543        ┆ 51  ┆ Female ┆ Married  ┆ … ┆ English   ┆ Segment2       ┆ Martin Luther ┆ 119     │\n",
       "│             ┆     ┆        ┆          ┆   ┆           ┆                ┆ King Jr. Day  ┆         │\n",
       "│ 64759       ┆ 51  ┆ Female ┆ Divorced ┆ … ┆ Mandarin  ┆ Segment5       ┆ Christmas Day ┆ 56      │\n",
       "│ 39119       ┆ 51  ┆ Female ┆ Married  ┆ … ┆ English   ┆ Segment4       ┆ New Year's    ┆ 54      │\n",
       "│             ┆     ┆        ┆          ┆   ┆           ┆                ┆ Day           ┆         │\n",
       "│ 84892       ┆ 51  ┆ Female ┆ Married  ┆ … ┆ German    ┆ Segment4       ┆ Veterans Day  ┆ 8       │\n",
       "│ 11056       ┆ 51  ┆ Female ┆ Divorced ┆ … ┆ German    ┆ Segment4       ┆ Veterans Day  ┆ 9       │\n",
       "└─────────────┴─────┴────────┴──────────┴───┴───────────┴────────────────┴───────────────┴─────────┘"
      ]
     },
     "execution_count": 20,
     "metadata": {},
     "output_type": "execute_result"
    }
   ],
   "source": [
    "pl.read_database_uri(\n",
    "    query=\"select * from santex.demo_datalake.incoming_age_gender_group\",\n",
    "    uri=connection_uri,\n",
    ")\n",
    "# .filter(pl.col(\"Preferred Communication Channel\") == \"Text\")"
   ]
  },
  {
   "cell_type": "code",
   "execution_count": null,
   "metadata": {},
   "outputs": [],
   "source": []
  }
 ],
 "metadata": {
  "kernelspec": {
   "display_name": "rbi_build",
   "language": "python",
   "name": "python3"
  },
  "language_info": {
   "codemirror_mode": {
    "name": "ipython",
    "version": 3
   },
   "file_extension": ".py",
   "mimetype": "text/x-python",
   "name": "python",
   "nbconvert_exporter": "python",
   "pygments_lexer": "ipython3",
   "version": "3.10.11"
  }
 },
 "nbformat": 4,
 "nbformat_minor": 2
}
